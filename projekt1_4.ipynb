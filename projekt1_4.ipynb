{
 "cells": [
  {
   "cell_type": "code",
   "execution_count": 8,
   "id": "bf3d4a11",
   "metadata": {},
   "outputs": [
    {
     "data": {
      "application/vnd.jupyter.widget-view+json": {
       "model_id": "c8983ccaca3748b8b0fa3afdcc46d107",
       "version_major": 2,
       "version_minor": 0
      },
      "text/plain": [
       "Dropdown(description='plik', options=('CT_ScoutView.jpg', 'Kolo.jpg', 'Kropka.jpg', 'Kwadraty2.jpg', 'Paski2.j…"
      ]
     },
     "metadata": {},
     "output_type": "display_data"
    },
    {
     "data": {
      "application/vnd.jupyter.widget-view+json": {
       "model_id": "a11d2759af2e407091f2cece911af905",
       "version_major": 2,
       "version_minor": 0
      },
      "text/plain": [
       "BoundedFloatText(value=0.01, description='alfa', min=0.01)"
      ]
     },
     "metadata": {},
     "output_type": "display_data"
    },
    {
     "data": {
      "application/vnd.jupyter.widget-view+json": {
       "model_id": "91d831d2db3b4acda24d762b94931e57",
       "version_major": 2,
       "version_minor": 0
      },
      "text/plain": [
       "BoundedIntText(value=2, description='n', max=1000, min=2)"
      ]
     },
     "metadata": {},
     "output_type": "display_data"
    },
    {
     "data": {
      "application/vnd.jupyter.widget-view+json": {
       "model_id": "bca3fead6fe54b609edd4479970c5269",
       "version_major": 2,
       "version_minor": 0
      },
      "text/plain": [
       "BoundedFloatText(value=1.0, description='l', min=1.0)"
      ]
     },
     "metadata": {},
     "output_type": "display_data"
    },
    {
     "data": {
      "application/vnd.jupyter.widget-view+json": {
       "model_id": "8c5222bddc764e61b9861bcd5fd5def7",
       "version_major": 2,
       "version_minor": 0
      },
      "text/plain": [
       "Text(value='', description='imie i nazwisko')"
      ]
     },
     "metadata": {},
     "output_type": "display_data"
    },
    {
     "data": {
      "application/vnd.jupyter.widget-view+json": {
       "model_id": "59283352e0034c739fccd25a1bb9879e",
       "version_major": 2,
       "version_minor": 0
      },
      "text/plain": [
       "Text(value='', description='pesel')"
      ]
     },
     "metadata": {},
     "output_type": "display_data"
    },
    {
     "data": {
      "application/vnd.jupyter.widget-view+json": {
       "model_id": "616fc4f6fc6b4ef1a3d5aabadc5dc54f",
       "version_major": 2,
       "version_minor": 0
      },
      "text/plain": [
       "DatePicker(value=None, description='data badania')"
      ]
     },
     "metadata": {},
     "output_type": "display_data"
    },
    {
     "data": {
      "application/vnd.jupyter.widget-view+json": {
       "model_id": "251932ca94d74cd585d76d6a292cac80",
       "version_major": 2,
       "version_minor": 0
      },
      "text/plain": [
       "Text(value='', description='komentarz')"
      ]
     },
     "metadata": {},
     "output_type": "display_data"
    }
   ],
   "source": [
    "import ipywidgets as widgets\n",
    "from skimage import io\n",
    "from skimage.draw import line_nd\n",
    "from skimage.util import img_as_ubyte\n",
    "from skimage.exposure import rescale_intensity\n",
    "from math import sqrt, radians, sin, cos, pi\n",
    "import matplotlib.pyplot as plt\n",
    "from pydicom.dataset import Dataset, FileDataset\n",
    "from pydicom.uid import ExplicitVRLittleEndian\n",
    "import pydicom._storage_sopclass_uids\n",
    "\n",
    "class Widgets():\n",
    "    def __init__(self):\n",
    "        files = [\"CT_ScoutView.jpg\", \"Kolo.jpg\", \"Kropka.jpg\", \"Kwadraty2.jpg\", \"Paski2.jpg\", \"SADDLE_PE.JPG\", \"Shepp_logan.jpg\"]\n",
    "        self.file = widgets.Dropdown(options=files, description=\"plik\")\n",
    "        display(self.file)\n",
    "        \n",
    "        self.alfa = widgets.BoundedFloatText(description=\"alfa\", min=0.01)\n",
    "        display(self.alfa)\n",
    "        \n",
    "        self.n = widgets.BoundedIntText(description=\"n\", min=2, max=1000)\n",
    "        display(self.n)\n",
    "        \n",
    "        self.l = widgets.BoundedFloatText(description=\"l\", min=1)\n",
    "        display(self.l)\n",
    "        \n",
    "        self.name = widgets.Text(description=\"imie i nazwisko\")\n",
    "        display(self.name)\n",
    "        \n",
    "        self.id = widgets.Text(description=\"pesel\")\n",
    "        display(self.id)\n",
    "\n",
    "        self.date = widgets.DatePicker(description='data badania')\n",
    "        display(self.date)\n",
    "        \n",
    "        self.comment = widgets.Text(description=\"komentarz\")\n",
    "        display(self.comment)\n",
    "        \n",
    "        self.slider = widgets.IntSlider(description=\"iteracje\", min=0, step=1)\n",
    "        \n",
    "data = Widgets()"
   ]
  },
  {
   "cell_type": "code",
   "execution_count": 9,
   "id": "2da11867",
   "metadata": {},
   "outputs": [
    {
     "data": {
      "application/vnd.jupyter.widget-view+json": {
       "model_id": "134c5031d3804192a2d07a224e564149",
       "version_major": 2,
       "version_minor": 0
      },
      "text/plain": [
       "BoundedIntText(value=282, description='r', disabled=True, max=283)"
      ]
     },
     "metadata": {},
     "output_type": "display_data"
    },
    {
     "data": {
      "application/vnd.jupyter.widget-view+json": {
       "model_id": "b38cdea8140542ec8b6851e9be5732c6",
       "version_major": 2,
       "version_minor": 0
      },
      "text/plain": [
       "BoundedIntText(value=90, description='delta', disabled=True, max=91)"
      ]
     },
     "metadata": {},
     "output_type": "display_data"
    },
    {
     "data": {
      "application/vnd.jupyter.widget-view+json": {
       "model_id": "08fcdd29de704b6cbee74868a6ebd8a2",
       "version_major": 2,
       "version_minor": 0
      },
      "text/plain": [
       "IntSlider(value=360, description='iteracje', max=360)"
      ]
     },
     "metadata": {},
     "output_type": "display_data"
    }
   ],
   "source": [
    "image = io.imread(data.file.value, as_gray=True)\n",
    "\n",
    "a, b = len(image[0]), len(image)\n",
    "r = int(sqrt(a * a + b * b) / 2)\n",
    "display(widgets.BoundedIntText(description=\"r\", value=r, max=r + 1, disabled=True))\n",
    "\n",
    "img = [[-1 for _ in range(2 * r + 1)] for _ in range(2 * r + 1)]\n",
    "for y in range(b):\n",
    "    for x in range(a):\n",
    "        img[r - b // 2 + y][r - a // 2 + x] = image[y][x]\n",
    "\n",
    "delta = data.l.value #* 2\n",
    "display(widgets.BoundedIntText(description=\"delta\", value=delta, max=int(delta) + 1, disabled=True))\n",
    "\n",
    "data.slider.max = int(360 // data.alfa.value)\n",
    "data.slider.value = int(360 // data.alfa.value)\n",
    "display(data.slider)"
   ]
  },
  {
   "cell_type": "code",
   "execution_count": null,
   "id": "0a11086c",
   "metadata": {
    "scrolled": true
   },
   "outputs": [],
   "source": [
    "sinogram = []\n",
    "rev = [[0 for _ in range(2 * r + 1)] for _ in range(2 * r + 1)]\n",
    "for scan in range(data.slider.value):\n",
    "    sinogram.append([])\n",
    "    emiter = (r * cos(radians(scan * data.alfa.value)) + r, (r * sin(radians(scan * data.alfa.value)) - r)*(-1))\n",
    "    #print()\n",
    "    #print(emiter)\n",
    "    for d in range(data.n.value):\n",
    "        sinogram[scan].append(0)\n",
    "        detector = (r * cos(radians(scan * data.alfa.value) + pi - radians(delta / 2) + radians(d * delta) / (data.n.value - 1)) + r, (r * sin(radians(scan * data.alfa.value) + pi - radians(delta / 2) + radians(d * delta) / (data.n.value - 1)) - r)*(-1))\n",
    "        #print(detector)\n",
    "        bresenham = line_nd(emiter, detector)\n",
    "        count = 0\n",
    "        for i in range(len(bresenham[0])):\n",
    "            if img[bresenham[0][i]][bresenham[1][i]] != -1:\n",
    "                sinogram[scan][d] += img[bresenham[0][i]][bresenham[1][i]]\n",
    "                count += 1\n",
    "        if count > 0:\n",
    "            sinogram[scan][d] /= count\n",
    "        for i in range(len(bresenham[0])):\n",
    "            if img[bresenham[0][i]][bresenham[1][i]] != -1:\n",
    "                rev[bresenham[0][i]][bresenham[1][i]] += sinogram[scan][d]\n",
    "                \n",
    "fig, ax = plt.subplots(3, 1)\n",
    "[axi.set_axis_off() for axi in ax.ravel()]\n",
    "ax[0].imshow(image, cmap='gray')\n",
    "ax[1].imshow(sinogram, cmap='gray')\n",
    "ax[2].imshow(rev, cmap='gray')"
   ]
  },
  {
   "cell_type": "code",
   "execution_count": 4,
   "id": "04e84791",
   "metadata": {},
   "outputs": [
    {
     "ename": "AttributeError",
     "evalue": "'list' object has no attribute 'dtype'",
     "output_type": "error",
     "traceback": [
      "\u001b[1;31m---------------------------------------------------------------------------\u001b[0m",
      "\u001b[1;31mAttributeError\u001b[0m                            Traceback (most recent call last)",
      "\u001b[1;32m<ipython-input-4-eb112948a4e7>\u001b[0m in \u001b[0;36m<module>\u001b[1;34m\u001b[0m\n\u001b[0;32m     53\u001b[0m \u001b[1;33m\u001b[0m\u001b[0m\n\u001b[0;32m     54\u001b[0m \u001b[0mpatient_data\u001b[0m \u001b[1;33m=\u001b[0m \u001b[1;33m{\u001b[0m\u001b[1;34m\"PatientName\"\u001b[0m\u001b[1;33m:\u001b[0m \u001b[0mdata\u001b[0m\u001b[1;33m.\u001b[0m\u001b[0mname\u001b[0m\u001b[1;33m.\u001b[0m\u001b[0mvalue\u001b[0m\u001b[1;33m,\u001b[0m \u001b[1;34m\"PatientID\"\u001b[0m\u001b[1;33m:\u001b[0m \u001b[0mdata\u001b[0m\u001b[1;33m.\u001b[0m\u001b[0mid\u001b[0m\u001b[1;33m.\u001b[0m\u001b[0mvalue\u001b[0m\u001b[1;33m,\u001b[0m \u001b[1;34m\"ImageComments\"\u001b[0m\u001b[1;33m:\u001b[0m \u001b[0mstr\u001b[0m\u001b[1;33m(\u001b[0m\u001b[0mdata\u001b[0m\u001b[1;33m.\u001b[0m\u001b[0mdate\u001b[0m\u001b[1;33m.\u001b[0m\u001b[0mvalue\u001b[0m\u001b[1;33m)\u001b[0m\u001b[1;33m+\u001b[0m\u001b[1;34m\";\"\u001b[0m\u001b[1;33m+\u001b[0m\u001b[0mdata\u001b[0m\u001b[1;33m.\u001b[0m\u001b[0mcomment\u001b[0m\u001b[1;33m.\u001b[0m\u001b[0mvalue\u001b[0m\u001b[1;33m}\u001b[0m\u001b[1;33m\u001b[0m\u001b[1;33m\u001b[0m\u001b[0m\n\u001b[1;32m---> 55\u001b[1;33m \u001b[0msave_as_dicom\u001b[0m\u001b[1;33m(\u001b[0m\u001b[1;34m\"scan.dcm\"\u001b[0m\u001b[1;33m,\u001b[0m \u001b[0mrev\u001b[0m\u001b[1;33m,\u001b[0m \u001b[0mpatient_data\u001b[0m\u001b[1;33m)\u001b[0m\u001b[1;33m\u001b[0m\u001b[1;33m\u001b[0m\u001b[0m\n\u001b[0m",
      "\u001b[1;32m<ipython-input-4-eb112948a4e7>\u001b[0m in \u001b[0;36msave_as_dicom\u001b[1;34m(file_name, img, patient_data)\u001b[0m\n\u001b[0;32m      3\u001b[0m \u001b[1;33m\u001b[0m\u001b[0m\n\u001b[0;32m      4\u001b[0m \u001b[1;32mdef\u001b[0m \u001b[0msave_as_dicom\u001b[0m\u001b[1;33m(\u001b[0m\u001b[0mfile_name\u001b[0m\u001b[1;33m,\u001b[0m \u001b[0mimg\u001b[0m\u001b[1;33m,\u001b[0m \u001b[0mpatient_data\u001b[0m\u001b[1;33m)\u001b[0m\u001b[1;33m:\u001b[0m\u001b[1;33m\u001b[0m\u001b[1;33m\u001b[0m\u001b[0m\n\u001b[1;32m----> 5\u001b[1;33m     \u001b[0mimg_converted\u001b[0m \u001b[1;33m=\u001b[0m \u001b[0mconvert_image_to_ubyte\u001b[0m\u001b[1;33m(\u001b[0m\u001b[0mimg\u001b[0m\u001b[1;33m)\u001b[0m\u001b[1;33m\u001b[0m\u001b[1;33m\u001b[0m\u001b[0m\n\u001b[0m\u001b[0;32m      6\u001b[0m \u001b[1;33m\u001b[0m\u001b[0m\n\u001b[0;32m      7\u001b[0m     \u001b[1;31m# Populate required values for file meta information\u001b[0m\u001b[1;33m\u001b[0m\u001b[1;33m\u001b[0m\u001b[1;33m\u001b[0m\u001b[0m\n",
      "\u001b[1;32m<ipython-input-4-eb112948a4e7>\u001b[0m in \u001b[0;36mconvert_image_to_ubyte\u001b[1;34m(img)\u001b[0m\n\u001b[0;32m      1\u001b[0m \u001b[1;32mdef\u001b[0m \u001b[0mconvert_image_to_ubyte\u001b[0m\u001b[1;33m(\u001b[0m\u001b[0mimg\u001b[0m\u001b[1;33m)\u001b[0m\u001b[1;33m:\u001b[0m\u001b[1;33m\u001b[0m\u001b[1;33m\u001b[0m\u001b[0m\n\u001b[1;32m----> 2\u001b[1;33m     \u001b[1;32mreturn\u001b[0m \u001b[0mimg_as_ubyte\u001b[0m\u001b[1;33m(\u001b[0m\u001b[0mrescale_intensity\u001b[0m\u001b[1;33m(\u001b[0m\u001b[0mimg\u001b[0m\u001b[1;33m,\u001b[0m \u001b[0mout_range\u001b[0m\u001b[1;33m=\u001b[0m\u001b[1;33m(\u001b[0m\u001b[1;36m0.0\u001b[0m\u001b[1;33m,\u001b[0m \u001b[1;36m1.0\u001b[0m\u001b[1;33m)\u001b[0m\u001b[1;33m)\u001b[0m\u001b[1;33m)\u001b[0m\u001b[1;33m\u001b[0m\u001b[1;33m\u001b[0m\u001b[0m\n\u001b[0m\u001b[0;32m      3\u001b[0m \u001b[1;33m\u001b[0m\u001b[0m\n\u001b[0;32m      4\u001b[0m \u001b[1;32mdef\u001b[0m \u001b[0msave_as_dicom\u001b[0m\u001b[1;33m(\u001b[0m\u001b[0mfile_name\u001b[0m\u001b[1;33m,\u001b[0m \u001b[0mimg\u001b[0m\u001b[1;33m,\u001b[0m \u001b[0mpatient_data\u001b[0m\u001b[1;33m)\u001b[0m\u001b[1;33m:\u001b[0m\u001b[1;33m\u001b[0m\u001b[1;33m\u001b[0m\u001b[0m\n\u001b[0;32m      5\u001b[0m     \u001b[0mimg_converted\u001b[0m \u001b[1;33m=\u001b[0m \u001b[0mconvert_image_to_ubyte\u001b[0m\u001b[1;33m(\u001b[0m\u001b[0mimg\u001b[0m\u001b[1;33m)\u001b[0m\u001b[1;33m\u001b[0m\u001b[1;33m\u001b[0m\u001b[0m\n",
      "\u001b[1;32m~\\anaconda3\\lib\\site-packages\\skimage\\exposure\\exposure.py\u001b[0m in \u001b[0;36mrescale_intensity\u001b[1;34m(image, in_range, out_range)\u001b[0m\n\u001b[0;32m    578\u001b[0m         \u001b[0mout_dtype\u001b[0m \u001b[1;33m=\u001b[0m \u001b[0m_output_dtype\u001b[0m\u001b[1;33m(\u001b[0m\u001b[0mimage\u001b[0m\u001b[1;33m.\u001b[0m\u001b[0mdtype\u001b[0m\u001b[1;33m.\u001b[0m\u001b[0mtype\u001b[0m\u001b[1;33m,\u001b[0m \u001b[0mimage\u001b[0m\u001b[1;33m.\u001b[0m\u001b[0mdtype\u001b[0m\u001b[1;33m)\u001b[0m\u001b[1;33m\u001b[0m\u001b[1;33m\u001b[0m\u001b[0m\n\u001b[0;32m    579\u001b[0m     \u001b[1;32melse\u001b[0m\u001b[1;33m:\u001b[0m\u001b[1;33m\u001b[0m\u001b[1;33m\u001b[0m\u001b[0m\n\u001b[1;32m--> 580\u001b[1;33m         \u001b[0mout_dtype\u001b[0m \u001b[1;33m=\u001b[0m \u001b[0m_output_dtype\u001b[0m\u001b[1;33m(\u001b[0m\u001b[0mout_range\u001b[0m\u001b[1;33m,\u001b[0m \u001b[0mimage\u001b[0m\u001b[1;33m.\u001b[0m\u001b[0mdtype\u001b[0m\u001b[1;33m)\u001b[0m\u001b[1;33m\u001b[0m\u001b[1;33m\u001b[0m\u001b[0m\n\u001b[0m\u001b[0;32m    581\u001b[0m \u001b[1;33m\u001b[0m\u001b[0m\n\u001b[0;32m    582\u001b[0m     \u001b[0mimin\u001b[0m\u001b[1;33m,\u001b[0m \u001b[0mimax\u001b[0m \u001b[1;33m=\u001b[0m \u001b[0mmap\u001b[0m\u001b[1;33m(\u001b[0m\u001b[0mfloat\u001b[0m\u001b[1;33m,\u001b[0m \u001b[0mintensity_range\u001b[0m\u001b[1;33m(\u001b[0m\u001b[0mimage\u001b[0m\u001b[1;33m,\u001b[0m \u001b[0min_range\u001b[0m\u001b[1;33m)\u001b[0m\u001b[1;33m)\u001b[0m\u001b[1;33m\u001b[0m\u001b[1;33m\u001b[0m\u001b[0m\n",
      "\u001b[1;31mAttributeError\u001b[0m: 'list' object has no attribute 'dtype'"
     ]
    }
   ],
   "source": [
    "import numpy as np\n",
    "\n",
    "def convert_image_to_ubyte(img):\n",
    "    return img_as_ubyte(rescale_intensity(img, out_range=(0.0, 1.0)))\n",
    "\n",
    "def save_as_dicom(file_name, img, patient_data):\n",
    "    img_converted = convert_image_to_ubyte(img)\n",
    "    \n",
    "    # Populate required values for file meta information\n",
    "    meta = Dataset()\n",
    "    meta.MediaStorageSOPClassUID = pydicom._storage_sopclass_uids.CTImageStorage\n",
    "    meta.MediaStorageSOPInstanceUID = pydicom.uid.generate_uid()\n",
    "    meta.TransferSyntaxUID = pydicom.uid.ExplicitVRLittleEndian  \n",
    "\n",
    "    ds = FileDataset(None, {}, preamble=b\"\\0\" * 128)\n",
    "    ds.file_meta = meta\n",
    "\n",
    "    ds.is_little_endian = True\n",
    "    ds.is_implicit_VR = False\n",
    "\n",
    "    ds.SOPClassUID = pydicom._storage_sopclass_uids.CTImageStorage\n",
    "    ds.SOPInstanceUID = meta.MediaStorageSOPInstanceUID\n",
    "    \n",
    "    ds.PatientName = patient_data[\"PatientName\"]\n",
    "    ds.PatientID = patient_data[\"PatientID\"]\n",
    "    ds.ImageComments = patient_data[\"ImageComments\"]\n",
    "    \n",
    "\n",
    "    ds.Modality = \"CT\"\n",
    "    ds.SeriesInstanceUID = pydicom.uid.generate_uid()\n",
    "    ds.StudyInstanceUID = pydicom.uid.generate_uid()\n",
    "    ds.FrameOfReferenceUID = pydicom.uid.generate_uid()\n",
    "\n",
    "    ds.BitsStored = 8\n",
    "    ds.BitsAllocated = 8\n",
    "    ds.SamplesPerPixel = 1\n",
    "    ds.HighBit = 7\n",
    "\n",
    "    ds.ImagesInAcquisition = 1\n",
    "    ds.InstanceNumber = 1\n",
    "\n",
    "    ds.Rows, ds.Columns = img_converted.shape\n",
    "\n",
    "    ds.ImageType = r\"ORIGINAL\\PRIMARY\\AXIAL\"\n",
    "\n",
    "    ds.PhotometricInterpretation = \"MONOCHROME2\"\n",
    "    ds.PixelRepresentation = 0\n",
    "\n",
    "    pydicom.dataset.validate_file_meta(ds.file_meta, enforce_standard=True)\n",
    "\n",
    "    ds.PixelData = img_converted.tobytes()\n",
    "\n",
    "    ds.save_as(file_name, write_like_original=False)\n",
    "    \n",
    "\n",
    "patient_data = {\"PatientName\": data.name.value, \"PatientID\": data.id.value, \"ImageComments\": str(data.date.value)+\";\"+data.comment.value}\n",
    "save_as_dicom(\"scan.dcm\", np.array(rev), patient_data)"
   ]
  },
  {
   "cell_type": "code",
   "execution_count": null,
   "id": "9a8c8995",
   "metadata": {},
   "outputs": [],
   "source": []
  }
 ],
 "metadata": {
  "kernelspec": {
   "display_name": "Python 3",
   "language": "python",
   "name": "python3"
  },
  "language_info": {
   "codemirror_mode": {
    "name": "ipython",
    "version": 3
   },
   "file_extension": ".py",
   "mimetype": "text/x-python",
   "name": "python",
   "nbconvert_exporter": "python",
   "pygments_lexer": "ipython3",
   "version": "3.8.8"
  }
 },
 "nbformat": 4,
 "nbformat_minor": 5
}
